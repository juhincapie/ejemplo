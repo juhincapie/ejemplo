{
 "cells": [
  {
   "cell_type": "markdown",
   "metadata": {},
   "source": [
    "# ¿Qué es Python?\n",
    ">> De acuerdo con _cloud_ como AWS, Python es un lenguaje de programación ampliamente utilizado en las aplicaciones web, el desarrollo de software, la ciencia de datos y el machine learning (ML). Los desarrolladores utilizan Python porque es eficiente y fácil de aprender, además de que se puede ejecutar diferentes plataformas. El software Python se puede descargar gratis, se integra bien a todos los tipos de sistemas y aumenta la velocidad del desarrollo."
   ]
  },
  {
   "cell_type": "markdown",
   "metadata": {},
   "source": [
    "## operaciones con python\n",
    "* __+ suma__\n",
    "* __- Resta__\n",
    "* __* Multiplicación__\n",
    "* __/ División__\n",
    "* __// Parte entera de la División__\n",
    "* __% Residuo de la división__\n",
    "* __** Potenciación__"
   ]
  },
  {
   "cell_type": "markdown",
   "metadata": {},
   "source": [
    "### 1. Cree las variables __x__, __y__, __z__, dónde x es igual a __2y + 8__, z es igual a __y/x__, y es igual __14^2__. Calcule los valores de x, y, z"
   ]
  },
  {
   "cell_type": "code",
   "execution_count": 17,
   "metadata": {},
   "outputs": [
    {
     "name": "stdout",
     "output_type": "stream",
     "text": [
      "presentación con display\n"
     ]
    },
    {
     "data": {
      "text/plain": [
       "'El valor de x es: 400'"
      ]
     },
     "metadata": {},
     "output_type": "display_data"
    },
    {
     "data": {
      "text/plain": [
       "'El valor de y es: 196'"
      ]
     },
     "metadata": {},
     "output_type": "display_data"
    },
    {
     "data": {
      "text/plain": [
       "'El valor de z es: 0.49'"
      ]
     },
     "metadata": {},
     "output_type": "display_data"
    },
    {
     "name": "stdout",
     "output_type": "stream",
     "text": [
      "\n",
      "presentación con print\n",
      "\n",
      "El valor de x es: 400\n",
      "El valor de y es: 196\n",
      "El valor de z es: 0.49\n"
     ]
    }
   ],
   "source": [
    "#-----> Solución\n",
    "\n",
    "#----------------------Definir variables----------------------------------\n",
    "y = 14**2\n",
    "x = 2*y + 8\n",
    "z = y/x\n",
    "\n",
    "# --------------------Presentación de resultados--------------------------\n",
    "print('presentación con display')\n",
    "\n",
    "display (\n",
    "    f'El valor de x es: {x}',\n",
    "    f'El valor de y es: {y}',\n",
    "    f'El valor de z es: {z}',\n",
    ")\n",
    "print('\\npresentación con print\\n')\n",
    "\n",
    "print (\n",
    "    f'El valor de x es: {x}\\nEl valor de y es: {y}\\nEl valor de z es: {z}'\n",
    ")\n",
    "\n"
   ]
  },
  {
   "cell_type": "markdown",
   "metadata": {},
   "source": []
  },
  {
   "cell_type": "markdown",
   "metadata": {},
   "source": [
    "## Operadores lógicos\n",
    "\n",
    "* < , >, !=, ==, <=, >=\n",
    "\n",
    "# Operadores de identidad\n",
    "\n",
    "* is ------------>Retorna True cuando los operadores son el mismo objeto\n",
    "* is not -------->Retorna True cuando los operadores No son el mismo objeto\n",
    "\n",
    "## Funciones Internas básicas en python\n",
    "\n",
    "* type() ---------------------> identifica el tipo de dato/estructura de determinado dato/variable\n",
    "* bool() ---------------------> Define si es verdadero o falso\n",
    "* str()  ---------------------> convierte en string\n",
    "* float() --------------------> Convierte en flotante\n",
    "* int() ----------------------> Convierte en entero\n",
    "* isinstance(valor, tipo)-----> Define si el valor o la variable es del tipo especificado (devuelve falso o verdadero)\n",
    "* print()---------------------> Muestra en pantalla resultados en pantalla\n",
    "* len()-----------------------> Devuelve la cantidad de registros que tiene una estructura\n",
    "* min() max() ----------------> Devuelve el valor mínimo y máximo de valores numéricos dentro de una estructura\n",
    "* abs() ----------------------> Devuelve el Valor Absoluto de determinado valor numérico\n",
    "* round()---------------------> Devuelve el valor de techo (si el decimal es mayor a .5) y piso si el valor es menor o igual a .5)\n",
    "* sorted() -------------------> se aplica a elementos y devuelve la versión ordenada\n",
    "* repr()----------------------> representación tipo texto de un objeto\n",
    "* replace()\n",
    "* upper()\n",
    "* lower()\n",
    "* capitalize()\n",
    "* swapcase()\n",
    "* title()\n",
    "* center(cantidad,'string')\n",
    "* ljust(cantidad,'string')\n",
    "* rjust(cantidad,'string')\n",
    "* count()\n",
    "* find() ---------------------> Retorna el índice en que inicia una cadena al ser buscada en otra\n",
    "* index()\n",
    "* partition()-----------------> Separa todos los caracteres con respecto al caracter definido\n",
    "* split()---------------------> Separa todos los caracteres de acuerdo con el caracter definido de partición que se encuentre dentro de la cadena de texto\n",
    "* rsplit()--------------------->Separa por la derecha, puede definirse cuantos split realizar con el parametro maxsplit\n",
    "* 'caracter de union'.join()---> Unifica elementos str de un arreglo\n",
    "* splitlines()\n",
    "* isalnum()\n",
    "* isalpha()\n",
    "* isdigit() -------------------> Deduce si la cadena es un integer\n",
    "* isnumeric()\n",
    "* zfill() ---------------------> rellena de ceros a la izquierda para dar uniformidad mínima de caracteres\n"
   ]
  },
  {
   "cell_type": "markdown",
   "metadata": {},
   "source": [
    "### 2. ¿Qué tipo de dato es 1?\n",
    "### 3. ¿Qué tipo de dato es 1.85?\n",
    "### 4. ¿Qué tipo de dato es True?\n",
    "### 5. ¿Qué devuelve bool(0), bool(None), bool(1), bool ('a')?\n",
    "### 6. ¿Qué tipo de dato es la cadena 'Estudiantes de ciencia de datos aplicada'?\n",
    "### 7. Haga uso de isinstance para deducir si el número 12 es string\n",
    "### 8. Haciendo uso de isinstance plantee la posibilidad de dato tipo string y tipo integer a la cadena 'Maestría y Especializaciones 2022-2S'\n",
    "### 9. Cuntifique el número de carcateres que tiene la cadena 'Maestría y Especializaciones 2022-2S'\n",
    "### 10. Calcule el valor mínimo y máximo de los números 354, 758, 2849, 23, 586l, 75, 234\n",
    "### 11. Genere el valor absoluto de -246\n",
    "### 12. ¿Al aplicar round(12.87), qué valor devuelve?\n",
    "### 14. ordene alfabeticamente la cadena 'kfjjsndv' de modo descendente y ascendente\n",
    "### 15. reemplace '-' por '' de la cadena 'h-o-l-a- -M-u-n-d-o'"
   ]
  },
  {
   "cell_type": "code",
   "execution_count": null,
   "metadata": {},
   "outputs": [],
   "source": [
    "display(\n",
    "    type(1),\n",
    "    type(1.85),\n",
    "    type(True),\n",
    "    bool(0),\n",
    "    bool(None),\n",
    "    bool(1),\n",
    "    bool ('a'),\n",
    "    type('Estudiantes de ciencia de datos aplicada'),\n",
    "    isinstance(12,str),\n",
    "    isinstance('Maestría y Especializaciones 2022-2S', (str, int, float)),\n",
    "    len('Maestría y Especializaciones 2022-2S'),\n",
    "    min(354, 758, 2849, 23, 586, 75, 234),\n",
    "    max(354, 758, 2849, 23, 586, 75, 234),\n",
    "    abs(246),\n",
    "    sorted('kfjjsndv'),\n",
    "    sorted('kfjjsndv',reverse=True),\n",
    "    'h-o-l-a- -M-u-n-d-o'.replace(\"-\",\"\"),\n",
    ")"
   ]
  },
  {
   "cell_type": "code",
   "execution_count": 58,
   "metadata": {},
   "outputs": [
    {
     "data": {
      "text/plain": [
       "'1-2'"
      ]
     },
     "execution_count": 58,
     "metadata": {},
     "output_type": "execute_result"
    }
   ],
   "source": [
    "'-'.join(['1','2'])"
   ]
  },
  {
   "cell_type": "code",
   "execution_count": null,
   "metadata": {},
   "outputs": [],
   "source": [
    "from string import Template\n"
   ]
  }
 ],
 "metadata": {
  "kernelspec": {
   "display_name": "Python 3.9.7 64-bit",
   "language": "python",
   "name": "python3"
  },
  "language_info": {
   "codemirror_mode": {
    "name": "ipython",
    "version": 3
   },
   "file_extension": ".py",
   "mimetype": "text/x-python",
   "name": "python",
   "nbconvert_exporter": "python",
   "pygments_lexer": "ipython3",
   "version": "3.9.7"
  },
  "orig_nbformat": 4,
  "vscode": {
   "interpreter": {
    "hash": "96724d6b9637267567451acd5db668b6a362e9d39d8edb46a4de17ef5590deaf"
   }
  }
 },
 "nbformat": 4,
 "nbformat_minor": 2
}
